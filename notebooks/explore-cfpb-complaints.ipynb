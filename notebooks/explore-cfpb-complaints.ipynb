{
 "cells": [
  {
   "cell_type": "code",
   "execution_count": 1,
   "metadata": {},
   "outputs": [],
   "source": [
    "import pandas as pd\n",
    "from pathlib import Path\n"
   ]
  },
  {
   "cell_type": "code",
   "execution_count": 2,
   "metadata": {},
   "outputs": [],
   "source": [
    "from pandas_profiling import ProfileReport"
   ]
  },
  {
   "cell_type": "code",
   "execution_count": 3,
   "metadata": {},
   "outputs": [],
   "source": [
    "COMPLAINTS_DATA = \"https://files.consumerfinance.gov/ccdb/complaints.csv.zip\""
   ]
  },
  {
   "cell_type": "code",
   "execution_count": 4,
   "metadata": {},
   "outputs": [],
   "source": [
    "#!curl -O https://files.consumerfinance.gov/ccdb/complaints.csv.zip"
   ]
  },
  {
   "cell_type": "code",
   "execution_count": 5,
   "metadata": {},
   "outputs": [
    {
     "name": "stdout",
     "output_type": "stream",
     "text": [
      "complaints.csv\t    complaints_first10.csv\texplore-cfpb-complaints.ipynb\n",
      "complaints.csv.zip  complaints_first100000.csv\n"
     ]
    }
   ],
   "source": [
    "!ls"
   ]
  },
  {
   "cell_type": "code",
   "execution_count": 6,
   "metadata": {},
   "outputs": [],
   "source": [
    "#!unzip complaints.csv.zip"
   ]
  },
  {
   "cell_type": "code",
   "execution_count": 7,
   "metadata": {},
   "outputs": [],
   "source": [
    "COMPLAINTS_DATA_LOCAL = Path(COMPLAINTS_DATA.split(\"/\")[-1].replace(\".zip\", \"\"))"
   ]
  },
  {
   "cell_type": "code",
   "execution_count": 8,
   "metadata": {},
   "outputs": [
    {
     "data": {
      "text/plain": [
       "PosixPath('complaints.csv')"
      ]
     },
     "execution_count": 8,
     "metadata": {},
     "output_type": "execute_result"
    }
   ],
   "source": [
    "COMPLAINTS_DATA_LOCAL"
   ]
  },
  {
   "cell_type": "code",
   "execution_count": 9,
   "metadata": {},
   "outputs": [],
   "source": [
    "!head -n 100000 complaints.csv > complaints_first100000.csv"
   ]
  },
  {
   "cell_type": "code",
   "execution_count": 10,
   "metadata": {},
   "outputs": [
    {
     "name": "stdout",
     "output_type": "stream",
     "text": [
      "My mother, his ex wife since XX/XX/XXXX, and he remained friends and she stayed with him in his house his last XXXX years of his life to help care for him. My mother, unknown to me at the time, was presenting herself to al of my father 's creditors as his \"\" wife ''. My father right before his death made it clear to me he was not agreeable to being presented to anyone as husband and wife regarding my mother for any reason. \n",
      "Upon the time of my father 's death me and my family were living in a leased home. My mother qualified and received my fathers social security since they had been married XXXX years ( XXXX ). She stayed in the house and made the payment until I and my family were able to complete our lease on our home and move into my father 's home, as he and we wanted. I completed a probate since my father had no will and was single. \n",
      "My mother moved out of the home and I started taking over the payments. Then I was laid off work. When I initally contacted the mortgage company they informed me they were unable to speak to me because in their records they had that XXXX XXXX ( my mother ) was the righful owner of the house since my father passed. I had to explain she was not his wife. I sent them all the correlative documents. I asked for a deferrment of a payment, they said no because i was not the mortgage holder. Next they started transferring my account to different locations of their \"\" servicing centers '' and each time I would go through the whole explanation of who I was and have to send the documentation again. All the while sending the documentation to their corporate office and speaking with them. At XXXX point I set up auto withdrawal, they would do that. The XXXX XXXX did n't go through my account because their system wanted to withdraw at XXXX and my salary did n't deposit into my account until XXXX XXXX. At this point they would n't take a check from me. All the while I am requesting a modification of the loan. Each time my account was transferred to a new \"\" servicing center '' their employee would tell me to send a voided check and signature to authorize automatic withdrawal and I did each time. They never set it up. So in fear of the automatica withdraw suddently going into effect I refused to send more payments until someone would agree to something. They never would. \n",
      "I just want to keep the house. Now that I have found the 12 CFR Part 1026 RIN 3170-ZA00 Application of REgulation Z 's Ability to Repay Rule to Certain Situations involving Successors in Interest, I believe the mortgage company violated this rule. I made it clear to the mortgage company I had every intention of keeping the home and paying the mortgage. Now they have filed foreclosure. This rule really hit home with me when I read it, because talking to several different people with Citifiancial I had some ask me why I did n't ask for a modification and then others tell me that a modification was n't possible! It appears it was all along. \n",
      "Lastly, my wife ( XXXX XXXX ) and I have Power of Attorneys on each other and she has permission to speak to anyone regarding anything pertaining to these matters. \n",
      "I am attaching the foreclosure petition and our answer, death cert, probate, power of attorneys and correspondence i have had with the mortgage company.\",,\"CITIBANK, N.A.\",OK,74066,,Consent provided,Web,2015-04-29,Closed with explanation,Yes,No,1352738\n",
      "2017-03-31,Credit reporting,\"\",Credit reporting company's investigation,No notice of investigation status/result,\"cfbp i would Like to file a complaint on Experian reporting agency On XX/XX/XXXX I sent in via Cerified mail this letter below asking Experian To investigate credit inquires as you Can see in my letter I asked them For details Infomation reguarding the inquires. i got a letter from them On XX/XX/2017 stating that they could'nt remove any of the Inquires! Number 1 They failed to send me any of the information I asked them to send me in order to verify these Fraudulent inquires! I asked that Experian Please send me the Info below or please REMOVE THESE ITEMS ASAP IF YOU ARE ABLE TO VERIFY THE INFO THAT I REQUESTED. \n",
      "MOST INPORTANT EXPERIAN IS FAILING TO SEND ME UPDATED CREDIT REPORT AFTER THEY ARE DELTED AND UPDATING MY INFORMATION THAT IN VIOLATION OF THE FCRA THIS IS MY 2ND REQ FOR UPDATED CREDIT REPORTS FROM THIS COMPANY!\",Company has responded to the consumer and the CFPB and chooses not to provide a public response,Experian Information Solutions Inc.,MN,55379,,Consent provided,Web,2017-03-31,Closed with non-monetary relief,Yes,Yes,2412926\n",
      "2017-01-16,Credit reporting,\"\",Incorrect information on credit report,Account status,\"My husband and I are in the middle of an FHA Short Sale for the property located at XXXX XXXX XXXX. XXXX, GA XXXX. FHA /Investor requirement to be late on our mortgage to get FHA short sale approval. Supporting documents are uploaded. Please examine, audit or re-evaluate credit. As you see from the credit report that all creditors shows excellent record- \"\" paid on time never been late. ''\",Company has responded to the consumer and the CFPB and chooses not to provide a public response,\"TRANSUNION INTERMEDIATE HOLDINGS, INC.\",GA,30215,,Consent provided,Web,2017-01-16,Closed with explanation,Yes,No,2292586\n",
      "2018-03-07,Mortgage,Other type of mortgage,Trouble during payment process,\"\",,Company has responded to the consumer and the CFPB and chooses not to provide a public response,WELLS FARGO & COMPANY,CA,91304,,N/A,Referral,2018-03-08,Closed with explanation,Yes,N/A,2837068\n"
     ]
    }
   ],
   "source": [
    "!tail complaints.csv"
   ]
  },
  {
   "cell_type": "code",
   "execution_count": 11,
   "metadata": {},
   "outputs": [],
   "source": [
    "#try:\n",
    "df = pd.read_csv(\"complaints_first100000.csv\", header=0, low_memory=False)\n",
    "#except Exception as e:\n",
    "#    print(\"File likely too large to read in this fashion\")"
   ]
  },
  {
   "cell_type": "code",
   "execution_count": 12,
   "metadata": {},
   "outputs": [
    {
     "data": {
      "text/html": [
       "<div>\n",
       "<style scoped>\n",
       "    .dataframe tbody tr th:only-of-type {\n",
       "        vertical-align: middle;\n",
       "    }\n",
       "\n",
       "    .dataframe tbody tr th {\n",
       "        vertical-align: top;\n",
       "    }\n",
       "\n",
       "    .dataframe thead th {\n",
       "        text-align: right;\n",
       "    }\n",
       "</style>\n",
       "<table border=\"1\" class=\"dataframe\">\n",
       "  <thead>\n",
       "    <tr style=\"text-align: right;\">\n",
       "      <th></th>\n",
       "      <th>Date received</th>\n",
       "      <th>Product</th>\n",
       "      <th>Sub-product</th>\n",
       "      <th>Issue</th>\n",
       "      <th>Sub-issue</th>\n",
       "      <th>Consumer complaint narrative</th>\n",
       "      <th>Company public response</th>\n",
       "      <th>Company</th>\n",
       "      <th>State</th>\n",
       "      <th>ZIP code</th>\n",
       "      <th>Tags</th>\n",
       "      <th>Consumer consent provided?</th>\n",
       "      <th>Submitted via</th>\n",
       "      <th>Date sent to company</th>\n",
       "      <th>Company response to consumer</th>\n",
       "      <th>Timely response?</th>\n",
       "      <th>Consumer disputed?</th>\n",
       "      <th>Complaint ID</th>\n",
       "    </tr>\n",
       "  </thead>\n",
       "  <tbody>\n",
       "    <tr>\n",
       "      <th>0</th>\n",
       "      <td>2022-11-22</td>\n",
       "      <td>Credit reporting, credit repair services, or o...</td>\n",
       "      <td>Credit reporting</td>\n",
       "      <td>Improper use of your report</td>\n",
       "      <td>Reporting company used your report improperly</td>\n",
       "      <td>NaN</td>\n",
       "      <td>NaN</td>\n",
       "      <td>EQUIFAX, INC.</td>\n",
       "      <td>OK</td>\n",
       "      <td>74447.0</td>\n",
       "      <td>Servicemember</td>\n",
       "      <td>NaN</td>\n",
       "      <td>Web</td>\n",
       "      <td>2022-11-22</td>\n",
       "      <td>In progress</td>\n",
       "      <td>Yes</td>\n",
       "      <td>NaN</td>\n",
       "      <td>6231498</td>\n",
       "    </tr>\n",
       "    <tr>\n",
       "      <th>1</th>\n",
       "      <td>2022-11-16</td>\n",
       "      <td>Credit reporting, credit repair services, or o...</td>\n",
       "      <td>Credit reporting</td>\n",
       "      <td>Problem with a credit reporting company's inve...</td>\n",
       "      <td>Their investigation did not fix an error on yo...</td>\n",
       "      <td>NaN</td>\n",
       "      <td>NaN</td>\n",
       "      <td>Experian Information Solutions Inc.</td>\n",
       "      <td>NJ</td>\n",
       "      <td>7093.0</td>\n",
       "      <td>NaN</td>\n",
       "      <td>NaN</td>\n",
       "      <td>Web</td>\n",
       "      <td>2022-11-16</td>\n",
       "      <td>In progress</td>\n",
       "      <td>Yes</td>\n",
       "      <td>NaN</td>\n",
       "      <td>6205383</td>\n",
       "    </tr>\n",
       "    <tr>\n",
       "      <th>2</th>\n",
       "      <td>2022-11-09</td>\n",
       "      <td>Debt collection</td>\n",
       "      <td>Credit card debt</td>\n",
       "      <td>Took or threatened to take negative or legal a...</td>\n",
       "      <td>Threatened or suggested your credit would be d...</td>\n",
       "      <td>NaN</td>\n",
       "      <td>NaN</td>\n",
       "      <td>Genesis FS Card Services, Inc.</td>\n",
       "      <td>TX</td>\n",
       "      <td>75038.0</td>\n",
       "      <td>NaN</td>\n",
       "      <td>NaN</td>\n",
       "      <td>Web</td>\n",
       "      <td>2022-11-09</td>\n",
       "      <td>Closed with explanation</td>\n",
       "      <td>Yes</td>\n",
       "      <td>NaN</td>\n",
       "      <td>6182699</td>\n",
       "    </tr>\n",
       "    <tr>\n",
       "      <th>3</th>\n",
       "      <td>2022-11-07</td>\n",
       "      <td>Mortgage</td>\n",
       "      <td>Other type of mortgage</td>\n",
       "      <td>Trouble during payment process</td>\n",
       "      <td>NaN</td>\n",
       "      <td>NaN</td>\n",
       "      <td>NaN</td>\n",
       "      <td>NORTHERN OHIO INVESTMENT COMPANY</td>\n",
       "      <td>MO</td>\n",
       "      <td>63031.0</td>\n",
       "      <td>NaN</td>\n",
       "      <td>Other</td>\n",
       "      <td>Web</td>\n",
       "      <td>2022-11-08</td>\n",
       "      <td>Untimely response</td>\n",
       "      <td>No</td>\n",
       "      <td>NaN</td>\n",
       "      <td>6173945</td>\n",
       "    </tr>\n",
       "    <tr>\n",
       "      <th>4</th>\n",
       "      <td>2022-11-07</td>\n",
       "      <td>Debt collection</td>\n",
       "      <td>Other debt</td>\n",
       "      <td>Attempts to collect debt not owed</td>\n",
       "      <td>Debt is not yours</td>\n",
       "      <td>NaN</td>\n",
       "      <td>NaN</td>\n",
       "      <td>R &amp; R Collection Service, Inc.</td>\n",
       "      <td>MO</td>\n",
       "      <td>64154.0</td>\n",
       "      <td>NaN</td>\n",
       "      <td>NaN</td>\n",
       "      <td>Phone</td>\n",
       "      <td>2022-11-07</td>\n",
       "      <td>Untimely response</td>\n",
       "      <td>No</td>\n",
       "      <td>NaN</td>\n",
       "      <td>6175998</td>\n",
       "    </tr>\n",
       "  </tbody>\n",
       "</table>\n",
       "</div>"
      ],
      "text/plain": [
       "  Date received                                            Product  \\\n",
       "0    2022-11-22  Credit reporting, credit repair services, or o...   \n",
       "1    2022-11-16  Credit reporting, credit repair services, or o...   \n",
       "2    2022-11-09                                    Debt collection   \n",
       "3    2022-11-07                                           Mortgage   \n",
       "4    2022-11-07                                    Debt collection   \n",
       "\n",
       "              Sub-product                                              Issue  \\\n",
       "0        Credit reporting                        Improper use of your report   \n",
       "1        Credit reporting  Problem with a credit reporting company's inve...   \n",
       "2        Credit card debt  Took or threatened to take negative or legal a...   \n",
       "3  Other type of mortgage                     Trouble during payment process   \n",
       "4              Other debt                  Attempts to collect debt not owed   \n",
       "\n",
       "                                           Sub-issue  \\\n",
       "0      Reporting company used your report improperly   \n",
       "1  Their investigation did not fix an error on yo...   \n",
       "2  Threatened or suggested your credit would be d...   \n",
       "3                                                NaN   \n",
       "4                                  Debt is not yours   \n",
       "\n",
       "  Consumer complaint narrative Company public response  \\\n",
       "0                          NaN                     NaN   \n",
       "1                          NaN                     NaN   \n",
       "2                          NaN                     NaN   \n",
       "3                          NaN                     NaN   \n",
       "4                          NaN                     NaN   \n",
       "\n",
       "                               Company State  ZIP code           Tags  \\\n",
       "0                        EQUIFAX, INC.    OK   74447.0  Servicemember   \n",
       "1  Experian Information Solutions Inc.    NJ    7093.0            NaN   \n",
       "2       Genesis FS Card Services, Inc.    TX   75038.0            NaN   \n",
       "3     NORTHERN OHIO INVESTMENT COMPANY    MO   63031.0            NaN   \n",
       "4       R & R Collection Service, Inc.    MO   64154.0            NaN   \n",
       "\n",
       "  Consumer consent provided? Submitted via Date sent to company  \\\n",
       "0                        NaN           Web           2022-11-22   \n",
       "1                        NaN           Web           2022-11-16   \n",
       "2                        NaN           Web           2022-11-09   \n",
       "3                      Other           Web           2022-11-08   \n",
       "4                        NaN         Phone           2022-11-07   \n",
       "\n",
       "  Company response to consumer Timely response? Consumer disputed?  \\\n",
       "0                  In progress              Yes                NaN   \n",
       "1                  In progress              Yes                NaN   \n",
       "2      Closed with explanation              Yes                NaN   \n",
       "3            Untimely response               No                NaN   \n",
       "4            Untimely response               No                NaN   \n",
       "\n",
       "   Complaint ID  \n",
       "0       6231498  \n",
       "1       6205383  \n",
       "2       6182699  \n",
       "3       6173945  \n",
       "4       6175998  "
      ]
     },
     "execution_count": 12,
     "metadata": {},
     "output_type": "execute_result"
    }
   ],
   "source": [
    "df.head()"
   ]
  },
  {
   "cell_type": "code",
   "execution_count": 13,
   "metadata": {},
   "outputs": [
    {
     "data": {
      "text/plain": [
       "71676"
      ]
     },
     "execution_count": 13,
     "metadata": {},
     "output_type": "execute_result"
    }
   ],
   "source": [
    "len(df)"
   ]
  },
  {
   "cell_type": "code",
   "execution_count": 14,
   "metadata": {},
   "outputs": [
    {
     "name": "stdout",
     "output_type": "stream",
     "text": [
      "<class 'pandas.core.frame.DataFrame'>\n",
      "RangeIndex: 71676 entries, 0 to 71675\n",
      "Data columns (total 18 columns):\n",
      " #   Column                        Non-Null Count  Dtype  \n",
      "---  ------                        --------------  -----  \n",
      " 0   Date received                 71676 non-null  object \n",
      " 1   Product                       71676 non-null  object \n",
      " 2   Sub-product                   71607 non-null  object \n",
      " 3   Issue                         71676 non-null  object \n",
      " 4   Sub-issue                     68334 non-null  object \n",
      " 5   Consumer complaint narrative  11171 non-null  object \n",
      " 6   Company public response       20891 non-null  object \n",
      " 7   Company                       71676 non-null  object \n",
      " 8   State                         71625 non-null  object \n",
      " 9   ZIP code                      71591 non-null  float64\n",
      " 10  Tags                          5874 non-null   object \n",
      " 11  Consumer consent provided?    26053 non-null  object \n",
      " 12  Submitted via                 71676 non-null  object \n",
      " 13  Date sent to company          71676 non-null  object \n",
      " 14  Company response to consumer  71676 non-null  object \n",
      " 15  Timely response?              71676 non-null  object \n",
      " 16  Consumer disputed?            219 non-null    object \n",
      " 17  Complaint ID                  71676 non-null  int64  \n",
      "dtypes: float64(1), int64(1), object(16)\n",
      "memory usage: 9.8+ MB\n"
     ]
    }
   ],
   "source": [
    "df.info()"
   ]
  },
  {
   "cell_type": "code",
   "execution_count": 15,
   "metadata": {},
   "outputs": [
    {
     "data": {
      "text/html": [
       "<div>\n",
       "<style scoped>\n",
       "    .dataframe tbody tr th:only-of-type {\n",
       "        vertical-align: middle;\n",
       "    }\n",
       "\n",
       "    .dataframe tbody tr th {\n",
       "        vertical-align: top;\n",
       "    }\n",
       "\n",
       "    .dataframe thead th {\n",
       "        text-align: right;\n",
       "    }\n",
       "</style>\n",
       "<table border=\"1\" class=\"dataframe\">\n",
       "  <thead>\n",
       "    <tr style=\"text-align: right;\">\n",
       "      <th></th>\n",
       "      <th>ZIP code</th>\n",
       "      <th>Complaint ID</th>\n",
       "    </tr>\n",
       "  </thead>\n",
       "  <tbody>\n",
       "    <tr>\n",
       "      <th>count</th>\n",
       "      <td>71591.000000</td>\n",
       "      <td>7.167600e+04</td>\n",
       "    </tr>\n",
       "    <tr>\n",
       "      <th>mean</th>\n",
       "      <td>46607.696442</td>\n",
       "      <td>6.065991e+06</td>\n",
       "    </tr>\n",
       "    <tr>\n",
       "      <th>std</th>\n",
       "      <td>27790.057090</td>\n",
       "      <td>3.019883e+05</td>\n",
       "    </tr>\n",
       "    <tr>\n",
       "      <th>min</th>\n",
       "      <td>294.000000</td>\n",
       "      <td>3.451700e+04</td>\n",
       "    </tr>\n",
       "    <tr>\n",
       "      <th>25%</th>\n",
       "      <td>27834.000000</td>\n",
       "      <td>6.040124e+06</td>\n",
       "    </tr>\n",
       "    <tr>\n",
       "      <th>50%</th>\n",
       "      <td>34786.000000</td>\n",
       "      <td>6.106146e+06</td>\n",
       "    </tr>\n",
       "    <tr>\n",
       "      <th>75%</th>\n",
       "      <td>75154.000000</td>\n",
       "      <td>6.163287e+06</td>\n",
       "    </tr>\n",
       "    <tr>\n",
       "      <th>max</th>\n",
       "      <td>99901.000000</td>\n",
       "      <td>6.235810e+06</td>\n",
       "    </tr>\n",
       "  </tbody>\n",
       "</table>\n",
       "</div>"
      ],
      "text/plain": [
       "           ZIP code  Complaint ID\n",
       "count  71591.000000  7.167600e+04\n",
       "mean   46607.696442  6.065991e+06\n",
       "std    27790.057090  3.019883e+05\n",
       "min      294.000000  3.451700e+04\n",
       "25%    27834.000000  6.040124e+06\n",
       "50%    34786.000000  6.106146e+06\n",
       "75%    75154.000000  6.163287e+06\n",
       "max    99901.000000  6.235810e+06"
      ]
     },
     "execution_count": 15,
     "metadata": {},
     "output_type": "execute_result"
    }
   ],
   "source": [
    "df.describe()"
   ]
  },
  {
   "cell_type": "code",
   "execution_count": 16,
   "metadata": {},
   "outputs": [
    {
     "data": {
      "application/vnd.jupyter.widget-view+json": {
       "model_id": "d747f3d574164faca2adf0a7ea57500b",
       "version_major": 2,
       "version_minor": 0
      },
      "text/plain": [
       "Summarize dataset:   0%|          | 0/5 [00:00<?, ?it/s]"
      ]
     },
     "metadata": {},
     "output_type": "display_data"
    }
   ],
   "source": [
    "ProfileReport(df).to_notebook_iframe()"
   ]
  },
  {
   "cell_type": "code",
   "execution_count": null,
   "metadata": {},
   "outputs": [],
   "source": []
  }
 ],
 "metadata": {
  "kernelspec": {
   "display_name": "Python 3.10.8 ('.venv_dev_data-cfpb': venv)",
   "language": "python",
   "name": "python3"
  },
  "language_info": {
   "codemirror_mode": {
    "name": "ipython",
    "version": 3
   },
   "file_extension": ".py",
   "mimetype": "text/x-python",
   "name": "python",
   "nbconvert_exporter": "python",
   "pygments_lexer": "ipython3",
   "version": "3.10.8"
  },
  "orig_nbformat": 4,
  "vscode": {
   "interpreter": {
    "hash": "d97414c2ca6001f689db6cdeb9a05629f448c6f6d016518c296d0d424aad94be"
   }
  }
 },
 "nbformat": 4,
 "nbformat_minor": 2
}
